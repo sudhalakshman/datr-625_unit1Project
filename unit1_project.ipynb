{
 "cells": [
  {
   "cell_type": "markdown",
   "metadata": {},
   "source": [
    "<img src=\"http://imgur.com/1ZcRyrc.png\" style=\"float: left; margin: 20px; height: 55px\">\n",
    "\n",
    "# Project 1: Python Coding Exercises\n",
    "\n",
    "_Authors: Joseph Nelson (DC) _\n",
    "\n",
    "---"
   ]
  },
  {
   "cell_type": "markdown",
   "metadata": {},
   "source": [
    "The following code challenges are drawn from common exercises used in technical interviews.\n",
    "\n",
    "Please note that there may be several ways to approach each challenge. If you get stuck, try mapping out your approach in pseudocode first. Finally, while solutions to problems like these may be found online, remember that if you copy/paste code that you can't explain, you'll be missing out on the point of the project. The only way to truly learn a new skill is through practice, trial, and error - we can only help you improve by understanding where you are having trouble."
   ]
  },
  {
   "cell_type": "markdown",
   "metadata": {},
   "source": [
    "### Challenge 1: Largest Palindrome\n",
    "A palindromic number reads the same both ways. For example, 1234321 is a palindrome. The largest palindrome made from the product of two two-digit numbers is 9009 = 91 × 99. Find the largest palindrome made from the product of two three-digit numbers. Afterward, write a brief explanation walking through your code's logic in markdown."
   ]
  },
  {
   "cell_type": "code",
   "execution_count": 105,
   "metadata": {},
   "outputs": [
    {
     "name": "stdout",
     "output_type": "stream",
     "text": [
      "Largest palindrome made from product of three-digit number (between 100 and 999) is 906609 which is the product of 913 and 993\n"
     ]
    }
   ],
   "source": [
    "def is_palindrome(n):\n",
    "    a = str(n)\n",
    "    ret = True\n",
    "    for i in range(0,(len(a)//2)):\n",
    "         if a[i] != a[len(a)-(i+1)]:\n",
    "                 ret= False\n",
    "    return ret\n",
    "\n",
    "\n",
    "\n",
    "max_palin = 0\n",
    "num1 = num2 =0\n",
    "for i in range(100,1001):\n",
    "    for j in range (i, 1001):\n",
    "        prod = i*j\n",
    "        if is_palindrome(prod):\n",
    "            #print(prod,i,j)\n",
    "            if  prod > max_palin:\n",
    "                max_palin = prod\n",
    "                num1 = i\n",
    "                num2 = j\n",
    "            \n",
    "print('Largest palindrome made from product of three-digit number (between 100 and 999) is '+str(max_palin)+' which is the product of '+str(num1)+' and '+str(num2))\n"
   ]
  },
  {
   "cell_type": "markdown",
   "metadata": {},
   "source": [
    "To find out the largest Palindrom made from product of two three-digit numbers, we can break down the problem into 2 parts viz \n",
    "- a) function to find if a given number is palindrome or not\n",
    "- b) Main code to compute the products of two three-digit number i.e., between 100 and 999 (inclusive)\n",
    "\n",
    "a) function to find if a given number is palidrome\n",
    "   \n",
    "- Firstly, we convert the number to a string for easy comparison of positions. There could be other mathematical way of finding this out. But from a function perspective I made it generic for any kind of input\n",
    "- iterate to half the length of the input so for e.g, 12344321 is the input, then we iterate from position 0 to position 3 i.e., length of string // 2 (the whole number quotient)\n",
    "    - start comparing from outer positions of the string and reduce towards inner\n",
    "    \n",
    "           1   2  3  4 4   3  2  1\n",
    "           |   |  |  | |   |  |  |\n",
    "           |   |  |  |_|   |  |  |\n",
    "           |   |  |________|  |  |\n",
    "           |   |______________|  |\n",
    "           |_____________________|\n",
    "    - even if one of the comparisons are not same, then the input is not a palidrome\n",
    "    - This will work even if the length of the input is odd number\n",
    "    \n",
    "           1   2  3  4   3  2  1\n",
    "           |   |  |  |   |  |  |\n",
    "           |   |  |  |   |  |  |\n",
    "           |   |  |______|  |  |\n",
    "           |   |____________|  |\n",
    "           |___________________|\n",
    "    \n",
    "b) the three-digit numbers are between the range 100 and 999. Since product of 2 numbers have the commutative property, we can further optimize the multiplication to be done only once per 2 number combination\n",
    "\n",
    "i.e., if the range is between 1 and 5, 1x5 and 5x1 will be done only once hence the number of product calculation done will be as follows:\n",
    "\n",
    "            1x1  -   -   -   - \n",
    "            1x2 2x2  -   -   - \n",
    "            1x3 2x3 3x3  -   - \n",
    "            1x4 2x4 3x4 4x4  -\n",
    "            1x5 2x5 3x5 4x5 5x5  \n",
    "            \n",
    "            \n",
    "  We will use nested loops, the outer loop will be 100 to 999 represented by i. The inner loop will be of range i to 999 represented by j. So ixj will give the product of the two three-digit number ranges as represented in the table above\n",
    "  \n",
    "  Every such product that we compute can then be compared to find out if it is a palindrome and if the newer product is greater than the previous maximum we found. \n",
    "  "
   ]
  },
  {
   "cell_type": "markdown",
   "metadata": {},
   "source": [
    "\n",
    "### Challenge 2: Summation of Primes\n",
    "The sum of the primes below 10 is 2 + 3 + 5 + 7 = 17. Find the sum of all the primes below 2,000. Afterward, write a brief explanation walking through your code's logic in markdown."
   ]
  },
  {
   "cell_type": "code",
   "execution_count": 106,
   "metadata": {},
   "outputs": [
    {
     "name": "stdout",
     "output_type": "stream",
     "text": [
      "Sum of prime numbers between 1 and 2000 is 277051\n"
     ]
    }
   ],
   "source": [
    "def is_prime(n):\n",
    "    ret = True\n",
    "    if (n>2):\n",
    "        for i in range(2,n):\n",
    "             if n%i==0:\n",
    "                     ret= False\n",
    "    return ret\n",
    "\n",
    "\n",
    "total = 0\n",
    "for i in range(1,2001):\n",
    "    if is_prime(i):\n",
    "        total = total + i\n",
    "        #print(i)\n",
    "print('Sum of prime numbers between 1 and 2000 is '+str(total))"
   ]
  },
  {
   "cell_type": "markdown",
   "metadata": {},
   "source": [
    "We identify if the number is prime if it is not divisible by any other number except 1 and itself.\n",
    "The function is_prime() achieve this.\n",
    "\n",
    "We iterate through the range 1 to 2000 and call the is_prime() function on each iteration. If the result is true, we add this number to existing total."
   ]
  },
  {
   "cell_type": "markdown",
   "metadata": {},
   "source": [
    "### Challenge 3: Multiples of 3 and 5\n",
    "If we list all of the natural numbers below 10 that are multiples of 3 or 5, we get 3, 5, 6, and 9. The sum of these multiples is 23. Find the sum of all the multiples of 3 or 5 below 1,000. Afterward, write a brief explanation walking through your code's logic in markdown."
   ]
  },
  {
   "cell_type": "code",
   "execution_count": 109,
   "metadata": {},
   "outputs": [
    {
     "name": "stdout",
     "output_type": "stream",
     "text": [
      "Sum of all multiples of 3 or 5 between 1 and 1000 is 234168\n"
     ]
    }
   ],
   "source": [
    "total = 0\n",
    "for i in range (1,1001):\n",
    "    if i%3==0 or i%5 ==0:\n",
    "        total = total + i\n",
    "        #print(i)\n",
    "print('Sum of all multiples of 3 or 5 between 1 and 1000 is '+str(total))"
   ]
  },
  {
   "cell_type": "markdown",
   "metadata": {},
   "source": [
    "Consider the range 1 to 1000, use the modulus operator % to check multiplicity with 3 and 5. If the number is a multiple of either 3 or 5, we add it to the total and print the same."
   ]
  },
  {
   "cell_type": "markdown",
   "metadata": {},
   "source": [
    "### Challenge 4: String Compressor\n",
    "Implement a method to perform basic string compression using the counts of repeated characters. (This is called run-length encoding.) For example, the string \"aabcccccaaa\" would become a2b1c5a3. If the “compressed” string would not become smaller than the original string, your method should return the original string. You can assume the string has only uppercase and lowercase letters (a–z). Specify whether your solution is case sensitive or case insensitive and what you would need to change to make it the other. Afterward, write a brief explanation walking through your code's logic in markdown."
   ]
  },
  {
   "cell_type": "code",
   "execution_count": 100,
   "metadata": {},
   "outputs": [],
   "source": [
    "def compress_string(in_string):\n",
    "    #in_string = in_string.lower()\n",
    "    count=0\n",
    "    out_string = prev= ''\n",
    "    uset=set()\n",
    "    for ch in in_string:\n",
    "        if prev != '':\n",
    "            if prev==ch:\n",
    "                count = count + 1\n",
    "            else:\n",
    "                out_string = out_string+prev\n",
    "                out_string = out_string+str(count)\n",
    "                count = 1\n",
    "        else:            \n",
    "            count = count + 1\n",
    "        prev = ch\n",
    "        uset.add(prev)\n",
    "    out_string = out_string+prev\n",
    "    out_string = out_string+str(count)\n",
    "    if len(uset)==len(in_string):\n",
    "        out_string = in_string\n",
    "    return out_string\n",
    "\n",
    "compress_string('aabcccccaaa')\n",
    "\n",
    "\n",
    "#Tests\n",
    "assert compress_string('buzz') == 'b1u1z2'\n",
    "assert compress_string('parallel') == 'p1a1r1a1l2e1l1'\n",
    "assert compress_string('aaaaaaaaaaaaaaaaaa') == 'a18'\n",
    "assert compress_string('aaaaabaaaaaaaaaaaaa') == 'a5b1a13'\n",
    "assert compress_string('sudha') == 'sudha'\n",
    "assert compress_string('aabcccccaaa') == 'a2b1c5a3'\n",
    "assert compress_string('aabccCCcaaa') == 'a2b1c2C2c1a3'\n",
    "#assert compress_string('aabccCCcaaa') == 'a2b1c5a3'"
   ]
  },
  {
   "cell_type": "markdown",
   "metadata": {},
   "source": [
    "A function compress_string() takes a string as input and iterates over the string to find repeated characters in order. This function increments a counter per character in the string if it repeats consecutively. \n",
    "If the subsequent character (ch) does not match previous (prev) i.e., is not a repitition  then the counter is reset to 1 and the previous character and its count is recorded (out_string)\n",
    "at the same time the unique set of characters appearing in the input string is also recorded in a set object. This is used to handle the use case where the input string does not have any repititive characters in which case the input and output strings are the same.\n",
    "Line#18 and line#19 in the code above are required to handle the last character case when the control is out of the loop\n",
    "This code is case sensitive. To make it case-insensitive, we can convert the input to all lower case and then do the comparison. The output will be different from the case-sensitive use case as evident from the commented test above."
   ]
  },
  {
   "cell_type": "markdown",
   "metadata": {},
   "source": [
    "### Challenge 5: FizzBuzz\n",
    "\n",
    "Write a program that prints all of the numbers from 1 to 100. For multiples of 3, instead of the number, print \"Fizz;\" for multiples of 5, print \"Buzz.\" For numbers that are multiples of both 3 and 5, print \"FizzBuzz.\" Afterward, write a brief explanation walking through your code's logic in markdown."
   ]
  },
  {
   "cell_type": "code",
   "execution_count": 104,
   "metadata": {},
   "outputs": [
    {
     "name": "stdout",
     "output_type": "stream",
     "text": [
      "1\n",
      "2\n",
      "Fizz\n",
      "4\n",
      "Buzz\n",
      "Fizz\n",
      "7\n",
      "8\n",
      "Fizz\n",
      "Buzz\n",
      "11\n",
      "Fizz\n",
      "13\n",
      "14\n",
      "FizzBuzz\n",
      "16\n",
      "17\n",
      "Fizz\n",
      "19\n",
      "Buzz\n",
      "Fizz\n",
      "22\n",
      "23\n",
      "Fizz\n",
      "Buzz\n",
      "26\n",
      "Fizz\n",
      "28\n",
      "29\n",
      "FizzBuzz\n",
      "31\n",
      "32\n",
      "Fizz\n",
      "34\n",
      "Buzz\n",
      "Fizz\n",
      "37\n",
      "38\n",
      "Fizz\n",
      "Buzz\n",
      "41\n",
      "Fizz\n",
      "43\n",
      "44\n",
      "FizzBuzz\n",
      "46\n",
      "47\n",
      "Fizz\n",
      "49\n",
      "Buzz\n",
      "Fizz\n",
      "52\n",
      "53\n",
      "Fizz\n",
      "Buzz\n",
      "56\n",
      "Fizz\n",
      "58\n",
      "59\n",
      "FizzBuzz\n",
      "61\n",
      "62\n",
      "Fizz\n",
      "64\n",
      "Buzz\n",
      "Fizz\n",
      "67\n",
      "68\n",
      "Fizz\n",
      "Buzz\n",
      "71\n",
      "Fizz\n",
      "73\n",
      "74\n",
      "FizzBuzz\n",
      "76\n",
      "77\n",
      "Fizz\n",
      "79\n",
      "Buzz\n",
      "Fizz\n",
      "82\n",
      "83\n",
      "Fizz\n",
      "Buzz\n",
      "86\n",
      "Fizz\n",
      "88\n",
      "89\n",
      "FizzBuzz\n",
      "91\n",
      "92\n",
      "Fizz\n",
      "94\n",
      "Buzz\n",
      "Fizz\n",
      "97\n",
      "98\n",
      "Fizz\n",
      "Buzz\n"
     ]
    }
   ],
   "source": [
    "for i in range(1,101):\n",
    "    if i%3==0 and i%5==0:\n",
    "        print('FizzBuzz')\n",
    "    elif i%3==0:\n",
    "        print('Fizz')\n",
    "    elif i%5 ==0:\n",
    "        print('Buzz')\n",
    "    else:\n",
    "        print(i)\n",
    "        \n",
    "        "
   ]
  },
  {
   "cell_type": "markdown",
   "metadata": {},
   "source": [
    "We pick the range as 1 and 101. \n",
    "We use % modulus operator to identify multiples.\n",
    "We will have to ensure that the order of check is as follows:\n",
    "- multiple of 3 and multiple of 5 (This has to be the first check so that we cover cases where the number is multiple of both 3 and 5 to print FizzBuzz)\n",
    "- Else multiple of 3\n",
    "- Else multiple of 5\n",
    "- else all other case"
   ]
  }
 ],
 "metadata": {
  "anaconda-cloud": {},
  "kernelspec": {
   "display_name": "Python 3",
   "language": "python",
   "name": "python3"
  },
  "language_info": {
   "codemirror_mode": {
    "name": "ipython",
    "version": 3
   },
   "file_extension": ".py",
   "mimetype": "text/x-python",
   "name": "python",
   "nbconvert_exporter": "python",
   "pygments_lexer": "ipython3",
   "version": "3.6.5"
  }
 },
 "nbformat": 4,
 "nbformat_minor": 2
}
